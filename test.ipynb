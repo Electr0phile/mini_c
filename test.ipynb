{
 "cells": [
  {
   "cell_type": "code",
   "execution_count": 1,
   "metadata": {},
   "outputs": [],
   "source": [
    "import json\n",
    "f = open('out.json', 'r')\n",
    "tree = json.load(f)"
   ]
  },
  {
   "cell_type": "code",
   "execution_count": 49,
   "metadata": {},
   "outputs": [
    {
     "name": "stdout",
     "output_type": "stream",
     "text": [
      "{'root': {'body': {'line': {'declaration': {'type': 'int', 'variable': 'a'}}, 'body': {'line': {'assignment': {'variable': 'a', 'integer': 4}}, 'body': None}}}}\n"
     ]
    }
   ],
   "source": [
    "print(tree)"
   ]
  },
  {
   "cell_type": "code",
   "execution_count": 54,
   "metadata": {},
   "outputs": [],
   "source": [
    "class Tail:\n",
    "    width = 15\n",
    "    def __init__(self, name):\n",
    "        self.first = name + (self.width - len(name))*\"-\"\n",
    "        self.rest  = self.width * \" \"\n",
    "        self.got = False\n",
    "    \n",
    "    def get(self):\n",
    "        if not self.got:\n",
    "            self.got = True\n",
    "            return self.first\n",
    "        else:\n",
    "            return self.rest"
   ]
  },
  {
   "cell_type": "code",
   "execution_count": 55,
   "metadata": {},
   "outputs": [
    {
     "name": "stdout",
     "output_type": "stream",
     "text": [
      "asdf-----------\n",
      "               \n",
      "               \n"
     ]
    }
   ],
   "source": [
    "t = Tail(\"asdf\")\n",
    "print(t.get())\n",
    "print(t.get())\n",
    "print(t.get())"
   ]
  },
  {
   "cell_type": "code",
   "execution_count": 56,
   "metadata": {},
   "outputs": [],
   "source": [
    "def visualize_tree(tree, tail, name=\"\"):\n",
    "    tail = Tail(tail.get() + name)\n",
    "    for i, n in enumerate(tree.keys()):\n",
    "        child = tree[n]\n",
    "        if type(child) == dict:\n",
    "            visualize_tree(child, tail, n)\n",
    "        else:\n",
    "            print(tail.get() + \"( \" + n + \" \" + str(child) + \" )\")"
   ]
  },
  {
   "cell_type": "code",
   "execution_count": 57,
   "metadata": {},
   "outputs": [
    {
     "name": "stdout",
     "output_type": "stream",
     "text": [
      "---------------rootbodylinedeclaration( type int )\n",
      "               ( variable a )\n",
      "               bodylineassignment( variable a )\n",
      "               ( integer 4 )\n",
      "               ( body None )\n"
     ]
    }
   ],
   "source": [
    "visualize_tree(tree, Tail(\"\"))"
   ]
  },
  {
   "cell_type": "code",
   "execution_count": 14,
   "metadata": {},
   "outputs": [
    {
     "data": {
      "text/plain": [
       "5"
      ]
     },
     "execution_count": 14,
     "metadata": {},
     "output_type": "execute_result"
    }
   ],
   "source": [
    "len(\"hellO\")"
   ]
  },
  {
   "cell_type": "code",
   "execution_count": null,
   "metadata": {},
   "outputs": [],
   "source": []
  }
 ],
 "metadata": {
  "kernelspec": {
   "display_name": "Python 3",
   "language": "python",
   "name": "python3"
  },
  "language_info": {
   "codemirror_mode": {
    "name": "ipython",
    "version": 3
   },
   "file_extension": ".py",
   "mimetype": "text/x-python",
   "name": "python",
   "nbconvert_exporter": "python",
   "pygments_lexer": "ipython3",
   "version": "3.7.4"
  }
 },
 "nbformat": 4,
 "nbformat_minor": 2
}
